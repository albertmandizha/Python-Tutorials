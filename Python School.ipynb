{
 "cells": [
  {
   "cell_type": "markdown",
   "id": "5445181e",
   "metadata": {},
   "source": [
    "## Strings"
   ]
  },
  {
   "cell_type": "code",
   "execution_count": null,
   "id": "b43ce4b4",
   "metadata": {},
   "outputs": [],
   "source": [
    "first='John'\n",
    "last='Smith'\n",
    "message=first + '['+ last +'] is a coder'\n",
    "msg= f'{first} {last} is a coder'\n",
    "print(msg)"
   ]
  },
  {
   "cell_type": "code",
   "execution_count": null,
   "id": "683dbc11",
   "metadata": {},
   "outputs": [],
   "source": [
    "course='Python for Beginners'\n",
    "print(len(course)) #to calculate the length of a string\n",
    "print(course.upper()) # to convert a string from lower to Upper Case\n",
    "print(course.find('o')) #gives the index of the characters and is case sensitive\n",
    "print(course.replace('Beginners','Absolute Beginners')) #replacing the characters we can replace the single character\n",
    "print('Python' in course) #to check if the Python sequence of the string"
   ]
  },
  {
   "cell_type": "markdown",
   "id": "38d69f90",
   "metadata": {},
   "source": [
    "## Arithmetic Operators"
   ]
  },
  {
   "cell_type": "code",
   "execution_count": null,
   "id": "4eecd8af",
   "metadata": {},
   "outputs": [],
   "source": [
    "#Argumented Assignment Operator\n",
    "x=10\n",
    "x-=3 #Argumented Assignment Operator\n",
    "print(x)"
   ]
  },
  {
   "cell_type": "code",
   "execution_count": null,
   "id": "f8cd64ba",
   "metadata": {},
   "outputs": [],
   "source": [
    "# Operator Presedence\n",
    "x= (10 + 3) * 2 ** 2\n",
    "print(x)\n",
    "#parathesis and Exponetiation first 2**2, then multiplication or division and addition or subtration\n"
   ]
  },
  {
   "cell_type": "code",
   "execution_count": null,
   "id": "92cfe7f5",
   "metadata": {},
   "outputs": [],
   "source": [
    "# Rounding and Absolute Values\n",
    "import math\n",
    "print(math.ceil(2.9))\n",
    "x=2.9\n",
    "print(abs(-2.9)) #always return the positive value always\n"
   ]
  },
  {
   "cell_type": "markdown",
   "id": "336623c5",
   "metadata": {},
   "source": [
    "## If statements"
   ]
  },
  {
   "cell_type": "code",
   "execution_count": null,
   "id": "2c13b0c8",
   "metadata": {},
   "outputs": [],
   "source": [
    "is_hot=False\n",
    "is_cold= True\n",
    "if is_hot:\n",
    "    print('its a hot day')\n",
    "    print('Drink Plent of water')\n",
    "elif is_cold:\n",
    "    print('its a cold day')\n",
    "    print('wear warm clothes')\n",
    "    \n",
    "else:\n",
    "    print('it is a lovely day')\n",
    "    print(\"Enjoy your day\")"
   ]
  },
  {
   "cell_type": "code",
   "execution_count": null,
   "id": "f67d44b3",
   "metadata": {},
   "outputs": [],
   "source": [
    "price= 1000000\n",
    "is_credit_good=True\n",
    "if is_credit_good:\n",
    "    down_payment=0.1*price\n",
    "else:\n",
    "    down_payment=0.2*price\n",
    "    \n",
    "print(f'Down Payment:${down_payment}')\n",
    "    "
   ]
  },
  {
   "cell_type": "markdown",
   "id": "5b0c75a6",
   "metadata": {},
   "source": [
    "### Logical Operators in Python"
   ]
  },
  {
   "cell_type": "code",
   "execution_count": null,
   "id": "4ab3db14",
   "metadata": {},
   "outputs": [],
   "source": [
    "has_high_income=True\n",
    "has_good_credit=False\n",
    "\n",
    "if has_high_income or has_good_credit:\n",
    "    print('Eligible for a loan')"
   ]
  },
  {
   "cell_type": "code",
   "execution_count": null,
   "id": "b9f77f2f",
   "metadata": {},
   "outputs": [],
   "source": [
    "### Comparison operators\n",
    "temperature = 35\n",
    "if temperature >=30:\n",
    "    print('its a hot day')\n",
    "else:\n",
    "    print('its not a hot day')"
   ]
  },
  {
   "cell_type": "code",
   "execution_count": null,
   "id": "bd59a546",
   "metadata": {},
   "outputs": [],
   "source": [
    "name='john'\n",
    "if len(name)<3:\n",
    "    print('name must be atleast 3 characters')\n",
    "elif len(name)>50:\n",
    "    print('name can be maximum of 50 characters')\n",
    "else:\n",
    "    print ('name looks good')"
   ]
  },
  {
   "cell_type": "code",
   "execution_count": null,
   "id": "7d5aad50",
   "metadata": {},
   "outputs": [],
   "source": [
    "weight=int(input('weight:')) #input always returns a string thats why we had to use the int\n",
    "unit=input('(L)bs or (K)g:')\n",
    "if unit.upper()=='L':\n",
    "    converted = weight *0.45\n",
    "    print(f'You are {converted} kilos')\n",
    "else:\n",
    "    converted=weight/0.45\n",
    "    print(f'You are {converted} pounds')"
   ]
  },
  {
   "cell_type": "markdown",
   "id": "7779a6b1",
   "metadata": {},
   "source": [
    "## While loops"
   ]
  },
  {
   "cell_type": "code",
   "execution_count": null,
   "id": "a6fe86f2",
   "metadata": {},
   "outputs": [],
   "source": [
    "# while condition\n",
    "i =1\n",
    "while i<=5:\n",
    "    print('*'*i)\n",
    "    i=i+1\n",
    "print('Done')"
   ]
  },
  {
   "cell_type": "code",
   "execution_count": 5,
   "id": "9fc92f7d",
   "metadata": {},
   "outputs": [
    {
     "name": "stdout",
     "output_type": "stream",
     "text": [
      "Gues:1\n",
      "Gues:9\n",
      "you won!\n"
     ]
    }
   ],
   "source": [
    "##Guesing game\n",
    "secrete_number =9\n",
    "gues_count=0\n",
    "gues_limit=3\n",
    "while gues_count<gues_limit:\n",
    "    gues=int(input('Gues:'))\n",
    "    gues_count+=1\n",
    "    if gues==secrete_number:\n",
    "        print('you won!')\n",
    "        break\n",
    "else:\n",
    "    print('Sorry you failed')"
   ]
  },
  {
   "cell_type": "code",
   "execution_count": null,
   "id": "c6458a53",
   "metadata": {},
   "outputs": [],
   "source": []
  },
  {
   "cell_type": "code",
   "execution_count": null,
   "id": "a229d332",
   "metadata": {},
   "outputs": [],
   "source": []
  }
 ],
 "metadata": {
  "kernelspec": {
   "display_name": "Python 3 (ipykernel)",
   "language": "python",
   "name": "python3"
  },
  "language_info": {
   "codemirror_mode": {
    "name": "ipython",
    "version": 3
   },
   "file_extension": ".py",
   "mimetype": "text/x-python",
   "name": "python",
   "nbconvert_exporter": "python",
   "pygments_lexer": "ipython3",
   "version": "3.10.6"
  }
 },
 "nbformat": 4,
 "nbformat_minor": 5
}
